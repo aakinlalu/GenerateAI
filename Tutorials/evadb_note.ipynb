{
 "cells": [
  {
   "cell_type": "code",
   "execution_count": 1,
   "metadata": {},
   "outputs": [],
   "source": [
    "import evadb"
   ]
  },
  {
   "cell_type": "code",
   "execution_count": 2,
   "metadata": {},
   "outputs": [
    {
     "name": "stdout",
     "output_type": "stream",
     "text": [
      "                     name                                             inputs  \\\n",
      "0    MnistImageClassifier                 [data NDARRAY ANYTYPE (3, 28, 28)]   \n",
      "1  FastRCNNObjectDetector        [Frame_Array NDARRAY UINT8 (3, None, None)]   \n",
      "2              ArrayCount   [Input_Array NDARRAY ANYTYPE (), Search_Key ANY]   \n",
      "3                    Crop  [Frame_Array NDARRAY UINT8 (3, None, None), bb...   \n",
      "4                 ChatGPT  [query NDARRAY STR (1,), content NDARRAY STR (...   \n",
      "5         StableDiffusion                       [prompt NDARRAY STR (None,)]   \n",
      "6                   DallE                       [prompt NDARRAY STR (None,)]   \n",
      "7                    Open                                    [img_path TEXT]   \n",
      "8              Similarity  [Frame_Array_Open NDARRAY UINT8 (3, None, None...   \n",
      "9                    Yolo             [data NDARRAY FLOAT32 (None, None, 3)]   \n",
      "\n",
      "                                             outputs             type  \\\n",
      "0                                       [label TEXT]   Classification   \n",
      "1  [labels NDARRAY STR (None,), bboxes NDARRAY FL...   Classification   \n",
      "2                                [key_count INTEGER]  NdarrayFunction   \n",
      "3  [Cropped_Frame_Array NDARRAY UINT8 (3, None, N...  NdarrayFunction   \n",
      "4                        [response NDARRAY STR (1,)]             None   \n",
      "5         [response NDARRAY FLOAT32 (None, None, 3)]             None   \n",
      "6         [response NDARRAY FLOAT32 (None, None, 3)]             None   \n",
      "7               [data NDARRAY UINT8 (3, None, None)]  NdarrayFunction   \n",
      "8                                   [distance FLOAT]  NdarrayFunction   \n",
      "9  [labels NDARRAY STR (None,), bboxes NDARRAY FL...      ultralytics   \n",
      "\n",
      "                                                impl  \\\n",
      "0  /Users/adebayoakinlalu/.pyenv/versions/3.10.12...   \n",
      "1  /Users/adebayoakinlalu/.pyenv/versions/3.10.12...   \n",
      "2  /Users/adebayoakinlalu/.pyenv/versions/3.10.12...   \n",
      "3  /Users/adebayoakinlalu/.pyenv/versions/3.10.12...   \n",
      "4  /Users/adebayoakinlalu/.pyenv/versions/3.10.12...   \n",
      "5  /Users/adebayoakinlalu/.pyenv/versions/3.10.12...   \n",
      "6  /Users/adebayoakinlalu/.pyenv/versions/3.10.12...   \n",
      "7  /Users/adebayoakinlalu/.pyenv/versions/3.10.12...   \n",
      "8  /Users/adebayoakinlalu/.pyenv/versions/3.10.12...   \n",
      "9  /Users/adebayoakinlalu/.pyenv/versions/3.10.12...   \n",
      "\n",
      "                                            metadata  \n",
      "0                                                 []  \n",
      "1                                                 []  \n",
      "2                                                 []  \n",
      "3                                                 []  \n",
      "4                                                 []  \n",
      "5                                                 []  \n",
      "6                                                 []  \n",
      "7                                                 []  \n",
      "8                                                 []  \n",
      "9  [FunctionMetadataCatalogEntry(key='model', val...  \n"
     ]
    }
   ],
   "source": [
    "# Connect to EvaDB and get a database cursor for running queries\n",
    "cursor = evadb.connect().cursor()\n",
    "\n",
    "# List all the built-in functions in EvaDB\n",
    "print(cursor.query(\"SHOW FUNCTIONS;\").df())"
   ]
  },
  {
   "cell_type": "code",
   "execution_count": 3,
   "metadata": {},
   "outputs": [
    {
     "name": "stdout",
     "output_type": "stream",
     "text": [
      "--2023-12-19 23:47:24--  https://www.dropbox.com/s/yxljxz6zxoqu54v/mnist.mp4\n",
      "Resolving www.dropbox.com (www.dropbox.com)... 162.125.83.18\n",
      "Connecting to www.dropbox.com (www.dropbox.com)|162.125.83.18|:443... connected.\n",
      "HTTP request sent, awaiting response... 302 Found\n",
      "Location: /s/raw/yxljxz6zxoqu54v/mnist.mp4 [following]\n",
      "--2023-12-19 23:47:24--  https://www.dropbox.com/s/raw/yxljxz6zxoqu54v/mnist.mp4\n",
      "Reusing existing connection to www.dropbox.com:443.\n",
      "HTTP request sent, awaiting response... 302 Found\n",
      "Location: https://uc03395b2197e9f1d3301140e712.dl.dropboxusercontent.com/cd/0/inline/CJuhJXEwOIeB5wNhuBpH1hl2InvvN_NRoVxOOTA_BdjLo2kGidoIMBntZkabNukxcxCAT-5xDqQ4yo1ethUpuI36ovcvtaS8bDx5eKL6x5TpoJ_fQKlqhaODdhWK1_ncm9kbOHDOWqfkSlR97G8V6BNw/file# [following]\n",
      "--2023-12-19 23:47:25--  https://uc03395b2197e9f1d3301140e712.dl.dropboxusercontent.com/cd/0/inline/CJuhJXEwOIeB5wNhuBpH1hl2InvvN_NRoVxOOTA_BdjLo2kGidoIMBntZkabNukxcxCAT-5xDqQ4yo1ethUpuI36ovcvtaS8bDx5eKL6x5TpoJ_fQKlqhaODdhWK1_ncm9kbOHDOWqfkSlR97G8V6BNw/file\n",
      "Resolving uc03395b2197e9f1d3301140e712.dl.dropboxusercontent.com (uc03395b2197e9f1d3301140e712.dl.dropboxusercontent.com)... 162.125.83.15\n",
      "Connecting to uc03395b2197e9f1d3301140e712.dl.dropboxusercontent.com (uc03395b2197e9f1d3301140e712.dl.dropboxusercontent.com)|162.125.83.15|:443... connected.\n",
      "HTTP request sent, awaiting response... 200 OK\n",
      "Length: 62156 (61K) [video/mp4]\n",
      "Saving to: ‘mnist.mp4’\n",
      "\n",
      "mnist.mp4           100%[===================>]  60.70K   403KB/s    in 0.2s    \n",
      "\n",
      "2023-12-19 23:47:25 (403 KB/s) - ‘mnist.mp4’ saved [62156/62156]\n",
      "\n"
     ]
    }
   ],
   "source": [
    "!wget -nc \"https://www.dropbox.com/s/yxljxz6zxoqu54v/mnist.mp4\""
   ]
  },
  {
   "cell_type": "code",
   "execution_count": 5,
   "metadata": {},
   "outputs": [
    {
     "data": {
      "text/html": [
       "<div>\n",
       "<style scoped>\n",
       "    .dataframe tbody tr th:only-of-type {\n",
       "        vertical-align: middle;\n",
       "    }\n",
       "\n",
       "    .dataframe tbody tr th {\n",
       "        vertical-align: top;\n",
       "    }\n",
       "\n",
       "    .dataframe thead th {\n",
       "        text-align: right;\n",
       "    }\n",
       "</style>\n",
       "<table border=\"1\" class=\"dataframe\">\n",
       "  <thead>\n",
       "    <tr style=\"text-align: right;\">\n",
       "      <th></th>\n",
       "      <th>0</th>\n",
       "    </tr>\n",
       "  </thead>\n",
       "  <tbody>\n",
       "    <tr>\n",
       "      <th>0</th>\n",
       "      <td>Number of loaded VIDEO: 1</td>\n",
       "    </tr>\n",
       "  </tbody>\n",
       "</table>\n",
       "</div>"
      ],
      "text/plain": [
       "                           0\n",
       "0  Number of loaded VIDEO: 1"
      ]
     },
     "execution_count": 5,
     "metadata": {},
     "output_type": "execute_result"
    }
   ],
   "source": [
    "cursor.query(\"DROP TABLE IF EXISTS MNISTVid\").df()\n",
    "cursor.query(\"LOAD VIDEO 'mnist.mp4' INTO MNISTVid\").df()"
   ]
  },
  {
   "cell_type": "code",
   "execution_count": 6,
   "metadata": {},
   "outputs": [],
   "source": [
    "query = cursor.query(\"\"\"\n",
    " SELECT data, MnistImageClassifier(data).label\n",
    "    FROM MNISTVid\n",
    "    WHERE id = 30 OR id = 50 OR id = 70 OR id = 0 OR id = 140\n",
    "\"\"\")\n",
    "\n",
    "response = query.df()"
   ]
  },
  {
   "cell_type": "code",
   "execution_count": 7,
   "metadata": {},
   "outputs": [
    {
     "data": {
      "image/png": "[encoded data removed]",
      "text/plain": [
       "<Figure size 600x800 with 5 Axes>"
      ]
     },
     "metadata": {},
     "output_type": "display_data"
    }
   ],
   "source": [
    "# !pip install matplotlib\n",
    "import matplotlib.pyplot as plt\n",
    "import numpy as np\n",
    "\n",
    "# create figure (fig), and array of axes (ax)\n",
    "fig, ax = plt.subplots(nrows=1, ncols=5, figsize=[6,8])\n",
    "\n",
    "for axi in ax.flat:\n",
    "    idx = np.random.randint(len(response))\n",
    "    img = response['data'].iloc[idx]\n",
    "    label = response['label'].iloc[idx]\n",
    "    axi.imshow(img)\n",
    "\n",
    "    axi.set_title(f'label: {label}')\n",
    "\n",
    "plt.show()"
   ]
  },
  {
   "cell_type": "code",
   "execution_count": null,
   "metadata": {},
   "outputs": [],
   "source": []
  }
 ],
 "metadata": {
  "kernelspec": {
   "display_name": "llm-env",
   "language": "python",
   "name": "python3"
  },
  "language_info": {
   "codemirror_mode": {
    "name": "ipython",
    "version": 3
   },
   "file_extension": ".py",
   "mimetype": "text/x-python",
   "name": "python",
   "nbconvert_exporter": "python",
   "pygments_lexer": "ipython3",
   "version": "3.10.12"
  }
 },
 "nbformat": 4,
 "nbformat_minor": 2
}
