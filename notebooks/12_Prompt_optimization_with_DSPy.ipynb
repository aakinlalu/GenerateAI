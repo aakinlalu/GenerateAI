{
 "cells": [
  {
   "cell_type": "markdown",
   "metadata": {},
   "source": [
    "DSPy reduces time spent prompting by providing you with boilerplate prompting that frames your tasks, which you define with \"Signatures\". __Signatures__ are a way of expressing what you want an LLM to do by defining the desired input and outputs.  \n",
    "\n",
    "For examples:\n",
    "\n",
    "`question -> answer` \n",
    "\n",
    "`sentence -> sentiment: bool`\n",
    "\n",
    "`document -> summary`\n",
    "\n",
    "`novella -> tldr`\n",
    "\n",
    "`image -> caption`\n",
    "\n",
    "`image -> label`\n",
    "\n",
    "\n",
    "Signatures can also be defined as a class. "
   ]
  },
  {
   "cell_type": "markdown",
   "metadata": {},
   "source": []
  }
 ],
 "metadata": {
  "kernelspec": {
   "display_name": "llmenv",
   "language": "python",
   "name": "python3"
  },
  "language_info": {
   "name": "python",
   "version": "3.11.9"
  }
 },
 "nbformat": 4,
 "nbformat_minor": 2
}
