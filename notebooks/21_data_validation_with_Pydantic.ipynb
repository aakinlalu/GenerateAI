{
 "cells": [
  {
   "cell_type": "markdown",
   "metadata": {},
   "source": [
    "# Data Validation with Pydantic\n",
    "\n",
    "**Pydantic** is a data validation and settings management library for Python. It uses Python type annotations to validate and parse data. Pydantic is particularly useful for ensuring that data conforms to a specified schema, making it a great tool for data validation in web applications, APIs, and other data-driven projects.\n",
    "\n",
    "**Key Features of Pydantic**:\n",
    "* **Data Validation**: Automatically validates data against the defined types and constraints.\n",
    "* **Type Coercion**: Converts input data to the specified types.\n",
    "* **Error Reporting**: Provides detailed error messages when validation fails.\n",
    "* **Settings Management**: Can be used to manage application settings with environment variable support.\n",
    "* **Serialization**: Easily serialize and deserialize data to and from JSON.\n",
    "\n",
    "As you can imagine, Pydantic’s field_validator() enables you to arbitrarily customize field validation. However, `field_validator()` won’t work if you want to compare multiple fields to one another or validate your model as a whole. For this, you’ll need to use model validators.\n",
    "\n",
    "As an example, suppose your company only hires contract workers in the IT department. Because of this, IT workers don’t qualify for benefits and their elected_benefits field should be False. You can use Pydantic’s `model_validator()` to enforce this constraint:\n"
   ]
  },
  {
   "cell_type": "code",
   "execution_count": 3,
   "metadata": {},
   "outputs": [],
   "source": [
    "from datetime import date\n",
    "from typing import Self\n",
    "from uuid import UUID, uuid4\n",
    "from enum import Enum\n",
    "from  pydantic import BaseModel, EmailStr, Field, field_validator, model_validator\n",
    "\n",
    "class Department(Enum):\n",
    "    HR = \"Human Resources\"\n",
    "    ENG = \"Engineering\"\n",
    "    MKT = \"Marketing\"\n",
    "    FIN = \"Finance\"\n",
    "    SALES = \"Sales\"\n",
    "    IT = \"Information Technology\"\n",
    "\n",
    "\n",
    "class Employee(BaseModel):\n",
    "    employee_id: UUID = Field(default_factory=uuid4, frozen=True)\n",
    "    name : str = Field(..., min_length=3, frozen=True)\n",
    "    email: EmailStr = Field(pattern=r\".+@example\\.com$\")\n",
    "    date_of_birth: date = Field(alias=\"birth_date\", repr=False, frozen=True)\n",
    "    salary: float = Field(alias=\"compensation\", ge=0, repr=False)\n",
    "    department: Department\n",
    "    elected_benefits: bool\n",
    "\n",
    "    @field_validator(\"date_of_birth\")\n",
    "    @classmethod\n",
    "    def check_valid_age(cls, date_of_birth: date)-> date:\n",
    "        today = date.today()\n",
    "        eighteen_years_ago = date(today.year - 18, today.month, today.day)\n",
    "        if date_of_birth > eighteen_years_ago:\n",
    "            raise ValueError(\"employee must be at least 18 years old\")\n",
    "        \n",
    "        return date_of_birth\n",
    "    \n",
    "    @model_validator(mode=\"after\")\n",
    "    def check_it_benefits(self) -> Self:\n",
    "        department = self.department\n",
    "        elected_benefits = self.elected_benefits\n",
    "\n",
    "        if department == Department.IT and elected_benefits:\n",
    "            raise ValueError(\n",
    "                \"IT employees are contractors and don't qualify for benefits\"\n",
    "            )\n",
    "        return self\n",
    "        "
   ]
  },
  {
   "cell_type": "markdown",
   "metadata": {},
   "source": [
    "Here, you import `Field` along with the other dependencies you used previously, and you assign default values to some of the Employee fields. Here’s a breakdown of the Field parameters you used to add additional validation and metadata to your fields:\n",
    "\n",
    "* `default_factory`: You use this to define a callable that generates default values. In the example above, you set default_factory to uuid4. This calls uuid4() to generate a random UUID for employee_id when needed. You can also use a lambda function for more flexibility.\n",
    "\n",
    "* `frozen`: This is a Boolean parameter you can set to make your fields immutable. This means, when frozen is set to True, the corresponding field can’t be changed after your model is instantiated. In this example, employee_id, name, and date_of_birth are made immutable using the frozen parameter.\n",
    "\n",
    "* `min_length`: You can control the length of string fields with min_length and max_length. In the example above, you ensure that name is at least one character long.\n",
    "pattern: For string fields, you can set pattern to a regex expression to match whatever pattern you’re expecting for that field. For instance, when you use the regex expression in the example above for email, Pydantic will ensure that every email ends with @example.com.\n",
    "\n",
    "* `alias`: You can use this parameter when you want to assign an alias to your fields. For example, you can allow date_of_birth to be called birth_date or salary to be called compensation. You can use these aliases when instantiating or serializing a model.\n",
    "\n",
    "* `gt`: This parameter, short for “greater than”, is used for numeric fields to set minimum values. In this example, setting gt=0 ensures salary is always a positive number. Pydantic also has other numeric constraints, such as lt which is short for “less than”.\n",
    "\n",
    "* `repr`: This Boolean parameter determines whether a field is displayed in the model’s field representation. In this example, you won’t see date_of_birth or salary when you print an Employee instance.\n",
    "\n",
    "\n",
    "Here, you add Python’s Self type and Pydantic’s model_validator() to your imports. You then create a method, `.check_it_benefits()`, that raises an error if the employee belongs to the IT department and the elected_benefits field is True. When you set mode to after in @model_validator, Pydantic waits until after you’ve instantiated your model to run `.check_it_benefits()`."
   ]
  },
  {
   "cell_type": "code",
   "execution_count": 4,
   "metadata": {},
   "outputs": [
    {
     "data": {
      "text/plain": [
       "Employee(employee_id=UUID('5763f0b9-d3bf-42d0-ac82-4197e655f900'), name='John Doe', email='john.doe@example.com', department=<Department.HR: 'Human Resources'>, elected_benefits=True)"
      ]
     },
     "execution_count": 4,
     "metadata": {},
     "output_type": "execute_result"
    }
   ],
   "source": [
    "Employee(\n",
    "    name=\"John Doe\",\n",
    "    email=\"john.doe@example.com\",\n",
    "    birth_date=\"1990-01-01\",\n",
    "    compensation=50_000.00,\n",
    "    department=\"Human Resources\",\n",
    "    elected_benefits=True\n",
    ")"
   ]
  },
  {
   "cell_type": "markdown",
   "metadata": {},
   "source": [
    "Pydantic’s BaseModel is equipped with a suite of methods that make it easy to create models from other objects, such as dictionaries and JSON. \n",
    "\n",
    "For example, if you want to instantiate an Employee object from a dictionary, you can use the `.model_validate()` class method:"
   ]
  },
  {
   "cell_type": "code",
   "execution_count": 26,
   "metadata": {},
   "outputs": [],
   "source": [
    "new_employee_dict = {\n",
    "    \"name\": \"John Doe\",\n",
    "    \"email\": \"john.doe@example.com\",\n",
    "    \"birth_date\": \"1990-01-01\",\n",
    "    \"compensation\": 50_000.00,\n",
    "    \"department\": \"Human Resources\",\n",
    "    \"elected_benefits\": True\n",
    "}\n",
    "\n",
    "new_employee = Employee.model_validate(new_employee_dict)"
   ]
  },
  {
   "cell_type": "code",
   "execution_count": 28,
   "metadata": {},
   "outputs": [
    {
     "data": {
      "text/plain": [
       "Employee(employee_id=UUID('886def64-d42b-43d8-9f16-369fba3d917e'), name='John Doe', email='john.doe@example.com', department=<Department.HR: 'Human Resources'>, elected_benefits=True)"
      ]
     },
     "execution_count": 28,
     "metadata": {},
     "output_type": "execute_result"
    }
   ],
   "source": [
    "new_employee"
   ]
  },
  {
   "cell_type": "markdown",
   "metadata": {},
   "source": [
    "ou can do the same thing with JSON objects using `.model_validate_json()`:"
   ]
  },
  {
   "cell_type": "code",
   "execution_count": 14,
   "metadata": {},
   "outputs": [],
   "source": [
    "# new_employee_json = \"\"\"\n",
    "# {\"employee_id\":\"d2e7b773-926b-49df-939a-5e98cbb9c9eb\",\n",
    "#     \"name\":\"John Doe\",\n",
    "#     \"email\":\"john.doe@example.com\",\n",
    "#     \"date_of_birth\":\"1990-01-01\",\n",
    "#     \"salary\":50_000.00,\n",
    "#     \"department\":\"Human Resources\",\n",
    "#     \"elected_benefits\":false}\"\"\"\n",
    "\n",
    "# Employee.model_validate_json(new_employee_json)"
   ]
  },
  {
   "cell_type": "markdown",
   "metadata": {},
   "source": [
    "You can also serialize Pydantic models as dictionaries and JSON:"
   ]
  },
  {
   "cell_type": "code",
   "execution_count": 27,
   "metadata": {},
   "outputs": [
    {
     "data": {
      "text/plain": [
       "{'employee_id': UUID('886def64-d42b-43d8-9f16-369fba3d917e'),\n",
       " 'name': 'John Doe',\n",
       " 'email': 'john.doe@example.com',\n",
       " 'date_of_birth': datetime.date(1990, 1, 1),\n",
       " 'salary': 50000.0,\n",
       " 'department': <Department.HR: 'Human Resources'>,\n",
       " 'elected_benefits': True}"
      ]
     },
     "execution_count": 27,
     "metadata": {},
     "output_type": "execute_result"
    }
   ],
   "source": [
    "new_employee.model_dump()"
   ]
  },
  {
   "cell_type": "code",
   "execution_count": null,
   "metadata": {},
   "outputs": [],
   "source": [
    "# new_employee.model_dump_json()"
   ]
  },
  {
   "cell_type": "markdown",
   "metadata": {},
   "source": [
    "Here, you use .model_dump() and .model_dump_json() to convert your new_employee model to a dictionary and JSON string, respectively. Notice how .model_dump_json() returns a JSON object with date_of_birth and department stored as strings.\n",
    "\n",
    "While Pydantic already validated these fields and converted your model to JSON, whoever uses this JSON downstream won’t know that date_of_birth needs to be a valid date and department needs to be a category in your Department enum. To solve this, you can create a JSON schema from your Employee model."
   ]
  },
  {
   "cell_type": "code",
   "execution_count": 17,
   "metadata": {},
   "outputs": [
    {
     "data": {
      "text/plain": [
       "{'$defs': {'Department': {'enum': ['Human Resources',\n",
       "    'Engineering',\n",
       "    'Marketing',\n",
       "    'Finance',\n",
       "    'Sales'],\n",
       "   'title': 'Department',\n",
       "   'type': 'string'}},\n",
       " 'properties': {'employee_id': {'default': 'd0d03852-5128-4fd5-863d-b275e2216c2c',\n",
       "   'format': 'uuid',\n",
       "   'title': 'Employee Id',\n",
       "   'type': 'string'},\n",
       "  'name': {'title': 'Name', 'type': 'string'},\n",
       "  'email': {'format': 'email', 'title': 'Email', 'type': 'string'},\n",
       "  'date_of_birth': {'format': 'date',\n",
       "   'title': 'Date Of Birth',\n",
       "   'type': 'string'},\n",
       "  'salary': {'title': 'Salary', 'type': 'number'},\n",
       "  'department': {'$ref': '#/$defs/Department'},\n",
       "  'elected_benefits': {'title': 'Elected Benefits', 'type': 'boolean'}},\n",
       " 'required': ['name',\n",
       "  'email',\n",
       "  'date_of_birth',\n",
       "  'salary',\n",
       "  'department',\n",
       "  'elected_benefits'],\n",
       " 'title': 'Employee',\n",
       " 'type': 'object'}"
      ]
     },
     "execution_count": 17,
     "metadata": {},
     "output_type": "execute_result"
    }
   ],
   "source": [
    "Employee.model_json_schema()"
   ]
  },
  {
   "cell_type": "markdown",
   "metadata": {},
   "source": [
    "When you call `.model_json_schema()`, you get a dictionary representing your model’s JSON schema. The first entry you see shows you the values that department can take on. You also see information about how your fields should be formatted. For instance, according to this JSON schema, employee_id is expected to be a UUID and date_of_birth is expected to be a date."
   ]
  },
  {
   "cell_type": "code",
   "execution_count": 7,
   "metadata": {},
   "outputs": [
    {
     "ename": "ValidationError",
     "evalue": "1 validation error for Employee\n  Value error, IT employees are contractors and don't qualify for benefits [type=value_error, input_value={'name': 'Alexis Tau', 'e...elected_benefits': True}, input_type=dict]\n    For further information visit https://errors.pydantic.dev/2.10/v/value_error",
     "output_type": "error",
     "traceback": [
      "\u001b[0;31m---------------------------------------------------------------------------\u001b[0m",
      "\u001b[0;31mValidationError\u001b[0m                           Traceback (most recent call last)",
      "Cell \u001b[0;32mIn[7], line 10\u001b[0m\n\u001b[1;32m      1\u001b[0m new_contract \u001b[38;5;241m=\u001b[39m {\n\u001b[1;32m      2\u001b[0m  \u001b[38;5;124m\"\u001b[39m\u001b[38;5;124mname\u001b[39m\u001b[38;5;124m\"\u001b[39m: \u001b[38;5;124m\"\u001b[39m\u001b[38;5;124mAlexis Tau\u001b[39m\u001b[38;5;124m\"\u001b[39m,\n\u001b[1;32m      3\u001b[0m \u001b[38;5;124m\"\u001b[39m\u001b[38;5;124memail\u001b[39m\u001b[38;5;124m\"\u001b[39m: \u001b[38;5;124m\"\u001b[39m\u001b[38;5;124mataue@example.com\u001b[39m\u001b[38;5;124m\"\u001b[39m,\n\u001b[0;32m   (...)\u001b[0m\n\u001b[1;32m      7\u001b[0m  \u001b[38;5;124m\"\u001b[39m\u001b[38;5;124melected_benefits\u001b[39m\u001b[38;5;124m\"\u001b[39m: \u001b[38;5;28;01mTrue\u001b[39;00m,\n\u001b[1;32m      8\u001b[0m }\n\u001b[0;32m---> 10\u001b[0m \u001b[43mEmployee\u001b[49m\u001b[38;5;241;43m.\u001b[39;49m\u001b[43mmodel_validate\u001b[49m\u001b[43m(\u001b[49m\u001b[43mnew_contract\u001b[49m\u001b[43m)\u001b[49m\n",
      "File \u001b[0;32m~/.pyenv/versions/3.11.4/envs/llm-env2/lib/python3.11/site-packages/pydantic/main.py:627\u001b[0m, in \u001b[0;36mBaseModel.model_validate\u001b[0;34m(cls, obj, strict, from_attributes, context)\u001b[0m\n\u001b[1;32m    625\u001b[0m \u001b[38;5;66;03m# `__tracebackhide__` tells pytest and some other tools to omit this function from tracebacks\u001b[39;00m\n\u001b[1;32m    626\u001b[0m __tracebackhide__ \u001b[38;5;241m=\u001b[39m \u001b[38;5;28;01mTrue\u001b[39;00m\n\u001b[0;32m--> 627\u001b[0m \u001b[38;5;28;01mreturn\u001b[39;00m \u001b[38;5;28;43mcls\u001b[39;49m\u001b[38;5;241;43m.\u001b[39;49m\u001b[43m__pydantic_validator__\u001b[49m\u001b[38;5;241;43m.\u001b[39;49m\u001b[43mvalidate_python\u001b[49m\u001b[43m(\u001b[49m\n\u001b[1;32m    628\u001b[0m \u001b[43m    \u001b[49m\u001b[43mobj\u001b[49m\u001b[43m,\u001b[49m\u001b[43m \u001b[49m\u001b[43mstrict\u001b[49m\u001b[38;5;241;43m=\u001b[39;49m\u001b[43mstrict\u001b[49m\u001b[43m,\u001b[49m\u001b[43m \u001b[49m\u001b[43mfrom_attributes\u001b[49m\u001b[38;5;241;43m=\u001b[39;49m\u001b[43mfrom_attributes\u001b[49m\u001b[43m,\u001b[49m\u001b[43m \u001b[49m\u001b[43mcontext\u001b[49m\u001b[38;5;241;43m=\u001b[39;49m\u001b[43mcontext\u001b[49m\n\u001b[1;32m    629\u001b[0m \u001b[43m\u001b[49m\u001b[43m)\u001b[49m\n",
      "\u001b[0;31mValidationError\u001b[0m: 1 validation error for Employee\n  Value error, IT employees are contractors and don't qualify for benefits [type=value_error, input_value={'name': 'Alexis Tau', 'e...elected_benefits': True}, input_type=dict]\n    For further information visit https://errors.pydantic.dev/2.10/v/value_error"
     ]
    }
   ],
   "source": [
    "new_contract = {\n",
    " \"name\": \"Alexis Tau\",\n",
    "\"email\": \"ataue@example.com\",\n",
    "\"birth_date\": \"2001-04-12\",\n",
    "\"compensation\": 100_000,\n",
    "\"department\": \"Information Technology\",\n",
    " \"elected_benefits\": True,\n",
    "}\n",
    "\n",
    "Employee.model_validate(new_contract)"
   ]
  },
  {
   "cell_type": "markdown",
   "metadata": {},
   "source": [
    "### Using Validation Decorators to Validate Functions\n",
    "\n",
    "Use Pydantic to validate function arguments using the `@validate_call` decorator. This allows you to create robust functions with informative type errors without having to manually implement validation logic.\n",
    "\n",
    "To see how this works, suppose you’re writing a function that sends invoices to clients after they’ve made a purchase. Your function takes in the client’s name, email, items purchased, and total billing amount, and it constructs and sends them an email. You need to validate all of these inputs because getting them wrong could result in the email not being sent, being misformatted, or the client being invoiced incorrectly."
   ]
  },
  {
   "cell_type": "code",
   "execution_count": 8,
   "metadata": {},
   "outputs": [],
   "source": [
    "import time \n",
    "from typing import Annotated, List\n",
    "from pydantic import PositiveFloat, Field, EmailStr, validate_call\n",
    "\n",
    "\n",
    "@validate_call\n",
    "def send_invoice(\n",
    "    client_name: Annotated[str, Field(min_length=3)],\n",
    "    client_email: EmailStr,\n",
    "    items_purchased: List[str],\n",
    "    amount_owed: PositiveFloat\n",
    "):\n",
    "    email_str = f\"\"\"\n",
    "    Dear {client_name}, \\n \n",
    "    Thank you for choosing xyz inc! You \n",
    "    owe ${amount_owed:,.2f} for the following items: \\n\n",
    "    {items_purchased}\n",
    "    \"\"\"\n",
    "\n",
    "    print(f\"Sending email to {client_email}...\")\n",
    "    time.sleep(2)\n",
    "\n",
    "    return email_str"
   ]
  },
  {
   "cell_type": "code",
   "execution_count": 11,
   "metadata": {},
   "outputs": [
    {
     "name": "stdout",
     "output_type": "stream",
     "text": [
      "Sending email to ajolawson@fakedomain.com...\n",
      "\n",
      "    Dear Andrew Jolawson, \n",
      " \n",
      "    Thank you for choosing xyz inc! You \n",
      "    owe $20.00 for the following items: \n",
      "\n",
      "    ['pie', 'cookie', 'cake']\n",
      "    \n"
     ]
    }
   ],
   "source": [
    "email_str = send_invoice(\n",
    " client_name=\"Andrew Jolawson\",\n",
    "client_email=\"ajolawson@fakedomain.com\",\n",
    "items_purchased=[\"pie\", \"cookie\", \"cake\"],\n",
    "amount_owed=20,)\n",
    "\n",
    "print(email_str)"
   ]
  },
  {
   "cell_type": "markdown",
   "metadata": {},
   "source": [
    "### Configuring Applications With BaseSettings\n",
    "\n",
    "pydantic-settings is one of the most powerful ways to manage environment variables in Python, and it has been widely adopted and recommended by popular libraries like FastAPI. You can use pydantic-settings to create models, similar to BaseModel, that parse and validate environment variables.\n",
    "\n",
    "To see how this works, suppose your application connects to a database and another API service. Your database credentials and API key can change over time and often change depending on which environment you’re deploying in. To handle this, you can create the following BaseSettings model:"
   ]
  },
  {
   "cell_type": "code",
   "execution_count": 12,
   "metadata": {},
   "outputs": [],
   "source": [
    "from pydantic import HttpUrl, Field\n",
    "from pydantic_settings import BaseSettings, SettingsConfigDict\n",
    "\n",
    "class AppConfig(BaseSettings):\n",
    "    model_config = SettingsConfigDict(\n",
    "        env_file=\".env\",\n",
    "        env_file_encoding=\"utf-8\",\n",
    "        case_sensitive=True,\n",
    "        extra=\"forbid\",\n",
    "    )\n",
    "    \n",
    "    database_host: HttpUrl\n",
    "    database_user: str = Field(min_length=5)\n",
    "    database_password: str = Field(min_length=10)\n",
    "    api_key: str = Field(min_length=20)"
   ]
  },
  {
   "cell_type": "code",
   "execution_count": 15,
   "metadata": {},
   "outputs": [],
   "source": [
    "# AppConfig()"
   ]
  }
 ],
 "metadata": {
  "kernelspec": {
   "display_name": "llm-env2",
   "language": "python",
   "name": "python3"
  },
  "language_info": {
   "codemirror_mode": {
    "name": "ipython",
    "version": 3
   },
   "file_extension": ".py",
   "mimetype": "text/x-python",
   "name": "python",
   "nbconvert_exporter": "python",
   "pygments_lexer": "ipython3",
   "version": "3.11.4"
  }
 },
 "nbformat": 4,
 "nbformat_minor": 2
}
