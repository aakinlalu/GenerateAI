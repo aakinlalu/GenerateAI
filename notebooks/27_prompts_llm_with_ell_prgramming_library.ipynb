{
 "cells": [
  {
   "cell_type": "markdown",
   "metadata": {},
   "source": [
    "## Write Prompts as Python functions using ell programming library\n",
    "\n",
    "Sometime it is unnatural to write prompts for LLM Models as developers. We wish that it could wriiten as a function. Well, ell is a Python programming library designed to solve this problem.\n",
    "\n"
   ]
  }
 ],
 "metadata": {
  "language_info": {
   "name": "python"
  }
 },
 "nbformat": 4,
 "nbformat_minor": 2
}
