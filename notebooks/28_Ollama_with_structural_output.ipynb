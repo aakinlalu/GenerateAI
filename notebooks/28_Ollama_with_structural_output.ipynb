{
 "cells": [
  {
   "cell_type": "markdown",
   "metadata": {},
   "source": [
    "## Structural Output\n",
    "\n",
    "Use cases for structured outputs include:\n",
    "\n",
    "* Parsing data from documents\n",
    "* Extracting data from images\n",
    "* Structuring all language model responses\n",
    "* More reliability and consistency than JSON mode"
   ]
  },
  {
   "cell_type": "markdown",
   "metadata": {},
   "source": [
    "#### Example 1"
   ]
  },
  {
   "cell_type": "code",
   "execution_count": 1,
   "metadata": {},
   "outputs": [
    {
     "name": "stdout",
     "output_type": "stream",
     "text": [
      "jobtype='Commercial Equipment Maintenance' materials=['Valve Actuators', 'Contactors', 'Float Valves', 'Magnehelic Gauges']\n"
     ]
    }
   ],
   "source": [
    "from typing import List, Literal, Optional\n",
    "from ollama import chat\n",
    "from pydantic import BaseModel\n",
    "\n",
    "class Equipment(BaseModel):\n",
    "    jobtype: str\n",
    "    materials: list[str]\n",
    "\n",
    "response = chat(\n",
    "    messages=[\n",
    "        {\n",
    "        'role': 'user',\n",
    "        'content': \"\"\"Airmaster is pleased to provide you with this proposal to replace and repair equipment at 108 North Terrace, including the AHU_03 Chilled Water Valve Actuator in Plantroom 2, serving Mall West, CHWP_09 Contactor in Chiller Plantroom, CT_09 Inlet Float Valve in NW Chiller Plantroom, and AHU_10 Air Filter Magnehelic Gauge in Plantroom 1.\n",
    "\n",
    "                    The proposed works involve replacing faulty components, including valve actuators, contactors, float valves, and magnehelic gauges. These parts play crucial roles in operating the air handling units, chilled water pumps, and cooling towers. Technician's notes indicate that AHU_03 cannot operate reliably until the actuator is replaced, and replacing CHWP_09's contactor will prevent a potential failure affecting occupants' thermal comfort.\n",
    "\n",
    "                    A detailed scope of work and the price are provided below for consideration.\"\"\"\n",
    "         }\n",
    "         ],\n",
    "         model='llama3.1',\n",
    "         format= Equipment.model_json_schema()\n",
    " )\n",
    "\n",
    "equipment = Equipment.model_validate_json(response.message.content)\n",
    "print(equipment)\n"
   ]
  },
  {
   "cell_type": "markdown",
   "metadata": {},
   "source": [
    "#### Example 2"
   ]
  },
  {
   "cell_type": "code",
   "execution_count": 2,
   "metadata": {},
   "outputs": [
    {
     "name": "stdout",
     "output_type": "stream",
     "text": [
      "pets=[Pet(name='Luna', animal=4, age=5, color='grey', favorite_toy='yarn'), Pet(name='Loki', animal=4, age=2, color='black', favorite_toy='tennis balls')]\n"
     ]
    }
   ],
   "source": [
    "class Pet(BaseModel):\n",
    "    name: str\n",
    "    animal: int\n",
    "    age: int \n",
    "    color: str | None \n",
    "    favorite_toy: str | None \n",
    "\n",
    "class PetList(BaseModel):\n",
    "    pets: list[Pet]\n",
    "\n",
    "response = chat(\n",
    "    messages=[\n",
    "        {\n",
    "          'role': 'user',\n",
    "          'content':\"\"\"\n",
    "                    I have two pets.\n",
    "        A cat named Luna who is 5 years old and loves playing with yarn. She has grey fur.\n",
    "        I also have a 2 year old black cat named Loki who loves tennis balls.\n",
    "        \"\"\"\n",
    "    }\n",
    " ],\n",
    " model='llama3.1',\n",
    " format=PetList.model_json_schema()\n",
    ")\n",
    "\n",
    "pets = PetList.model_validate_json(response.message.content)\n",
    "print(pets)"
   ]
  },
  {
   "cell_type": "markdown",
   "metadata": {},
   "source": [
    "#### Example 3: Openai Compatibility"
   ]
  },
  {
   "cell_type": "code",
   "execution_count": 6,
   "metadata": {},
   "outputs": [],
   "source": [
    "from openai import OpenAI\n",
    "import openai\n",
    "\n",
    "client = OpenAI(base_url=\"http://localhost:11434/v1\", api_key=\"ollama\")\n",
    "\n",
    "try:\n",
    "    completion = client.beta.chat.completions.parse(\n",
    "        temperature=0,\n",
    "        model=\"llama3.1:latest\",\n",
    "        messages=[\n",
    "            {\n",
    "                \"role\": \"user\",\n",
    "                \"content\": \"I have two pets. A cat named Luna who is 5 years old and loves playing with yarn. She has grey fur. I also have a 2 year old black cat named Loki who loves tennis balls.\"\n",
    "            }\n",
    "        ],\n",
    "\n",
    "    )\n",
    "    pet_response = completion.choices[0].message\n",
    "    if pet_response.parsed:\n",
    "        print(pet_response.parsed)\n",
    "    elif pet_response.refusal:\n",
    "        print(pet_response.refusal)\n",
    "except Exception as e:\n",
    "    if type(e) == openai.LengthFinishedError:\n",
    "        print(\"Max tokens reached: \", e)\n",
    "        # pass\n",
    "    else:\n",
    "        print(\"Error: \", e)\n",
    "        # pass"
   ]
  },
  {
   "cell_type": "markdown",
   "metadata": {},
   "source": [
    "#### 4. Image Descriptions"
   ]
  },
  {
   "cell_type": "code",
   "execution_count": 9,
   "metadata": {},
   "outputs": [
    {
     "name": "stdout",
     "output_type": "stream",
     "text": [
      "summary='A man is climbing a tree to pick apples.' objects=[Object(name='man', confidence=0.9, attribute='climbing a tree'), Object(name='tree', confidence=1.0, attribute='with branches and leaves'), Object(name='apples', confidence=1.0, attribute='red and ripe')] scene='a man is climbing a tree to pick apples.' colors=['green', 'brown', 'red'] time_of_day='Afternoon' setting='Outdoor' text_content='The man is picking apples from the tree.'\n"
     ]
    }
   ],
   "source": [
    "class Object(BaseModel):\n",
    "    name: str\n",
    "    confidence: float \n",
    "    attribute: str\n",
    "\n",
    "class ImageDescription(BaseModel):\n",
    "    summary: str \n",
    "    objects: List[Object]\n",
    "    scene: str\n",
    "    colors: List[str]\n",
    "    time_of_day: Literal['Morning', 'Afternoon', 'Evening', 'Night']\n",
    "    setting: Literal['Indoor', 'Outdoor', 'Unknown']\n",
    "    text_content: Optional[str] = None\n",
    "\n",
    "path = 'images/man_climbing_tree.png'\n",
    "\n",
    "response = chat(\n",
    "    model='llama3.2-vision',\n",
    "    format=ImageDescription.model_json_schema(), # Pass in the schema for the response \n",
    "    messages=[ {\n",
    "        'role': 'user',\n",
    "        'content': 'Analyze this image and describe what you see, including any objects, the scene, colors and any text you can detect.',\n",
    "      'images': [path],\n",
    "    } \n",
    "    ], \n",
    "    options={'temperature': 0}, # Set the temperature to 0 for deterministic results\n",
    "\n",
    ")\n",
    "\n",
    "image_description = ImageDescription.model_validate_json(response.message.content)\n",
    "print(image_description)"
   ]
  },
  {
   "cell_type": "markdown",
   "metadata": {},
   "source": [
    "For reliable use of structured outputs, consider to:\n",
    "\n",
    "* Use Pydantic (Python) or Zod (JavaScript) to define the schema for the response\n",
    "* Add “return as JSON” to the prompt to help the model understand the request\n",
    "* Set the temperature to 0 for more deterministic output"
   ]
  }
 ],
 "metadata": {
  "kernelspec": {
   "display_name": "llmenv",
   "language": "python",
   "name": "python3"
  },
  "language_info": {
   "codemirror_mode": {
    "name": "ipython",
    "version": 3
   },
   "file_extension": ".py",
   "mimetype": "text/x-python",
   "name": "python",
   "nbconvert_exporter": "python",
   "pygments_lexer": "ipython3",
   "version": "3.11.9"
  }
 },
 "nbformat": 4,
 "nbformat_minor": 2
}
